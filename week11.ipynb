{
  "cells": [
    {
      "cell_type": "markdown",
      "metadata": {
        "id": "vqyiMCvmbcSY"
      },
      "source": [
        "## **충남대학교 - 컴퓨터 그래픽스** \n",
        "\n",
        "학번 : 201702086\n",
        "\n",
        "이름 : 한정경\n",
        "\n",
        "## 과제 안내 사항 \n",
        "딥러닝 과제는 따로 보고서를 받지 않을 예정입니다. \n",
        "\n",
        "대신 과제 구현 시 주석을 꼭 달아서 충분히 구현한 내용에 대한 설명을 해주시면 되겠습니다.\n",
        "\n",
        "과제 제출 기한\n",
        "11월 28일 월요일 23시 59분\n",
        "제출 파일 : .ipynb 파일 \n"
      ]
    },
    {
      "cell_type": "markdown",
      "metadata": {
        "id": "v_T89t47VTSf"
      },
      "source": [
        "##**Pytorch 기초 실습**\n",
        "\n",
        "<img src = \"https://drive.google.com/uc?id=1lZ6La7NmnOhCzSGqgMonYgvsTT_lzM2P\" height = 200 width = 500> "
      ]
    },
    {
      "cell_type": "markdown",
      "metadata": {
        "id": "fGQDtU0BVW5B"
      },
      "source": [
        "##**Pytorch란?**\n",
        "* **파이토치(PyTorch)**는 컴퓨터 비전 및 자연어 처리와 같은 응용 프로그램에 사용되는 토치(Torch) 라이브러리를 기반으로 하는 기계 학습 프레임워크이다. 현 Meta AI가 개발(구 Facebook)하였다.\n",
        "* **Tesla Autopilot**, **Uber의 Pyro**, **Hugging Face의 Transformers**, **PyTorch Lightning**, 및 **Catalyst**를 포함한 많은 딥 러닝 소프트웨어가 PyTorch 위에 구축되어 있습니다.\n",
        "\n",
        "<img src = \"https://drive.google.com/uc?id=1TIOBfghGmeyXIcF_FIHipmVZKYGOIPse\" height = 200 width = 190>\n",
        "<img src = \"https://drive.google.com/uc?id=1FKBzFcQ6cGas7e_oh5G7gWzlA9j64Egh\" height = 200 width = 190> \n",
        "<img src = \"https://drive.google.com/uc?id=1iw6u8v-7kqqqcg_O-ieAwnv5ZocgNRkD\" height = 200 width = 220> \n",
        "<img src = \"https://drive.google.com/uc?id=1IAR-v86prmPIElUP8pU73svNrx9WcCxN\" height = 200 width = 200> \n",
        "<img src = \"https://drive.google.com/uc?id=1bZce4mRyzXWM4d-sDd1vS5WC_J0gDQda\" height = 200 width = 200> \n",
        "\n",
        "\n",
        " \n",
        ">참고  \n",
        "실행 전에 **[런타임]** → **[런타임 유형 변경]** → 유형을 **GPU**로 설정해서 GPU를 사용할 수 있게 합니다.  \n",
        "본 실습은 Pytorch 공식 튜토리얼 https://pytorch.org/tutorials 과 cs231n http://cs231n.stanford.edu/ 자료를 참고하였습니다.\n"
      ]
    },
    {
      "cell_type": "markdown",
      "metadata": {
        "id": "0IPKy-d-VXNN"
      },
      "source": [
        "##**Pytorch 기초 실습 구성**\n",
        "* Tensor 정의\n",
        "* Tensor Shape 변경 \n",
        "* Tensor 연산\n",
        "* 데이터 불러오기 (CIFAR-10 dataset)\n",
        "* Pytorch Module API를 이용한 Neural Network 정의 및 사용법\n",
        "* 간단한 선형 분류기(Linear Classifier) 구현\n",
        "* 과제 - Convolution을 이용한 이미지 분류기 구현 "
      ]
    },
    {
      "cell_type": "markdown",
      "metadata": {
        "id": "8xrZF4dJbdV2"
      },
      "source": [
        "## **1 Tensor 정의**\n"
      ]
    },
    {
      "cell_type": "markdown",
      "metadata": {
        "id": "9nAwgxavT7RH"
      },
      "source": [
        "### **1.1 Tensor란?**\n",
        "* Tensor는 배열 및 행렬과 매우 유사한 특수 데이터 구조입니다. PyTorch에서는 텐서를 사용하여 모델의 입력과 출력뿐만 아니라 모델의 매개 변수를 인코딩합니다.\n",
        "\n",
        "* Tensor는 **GPU**나 다른 하드웨어 가속기에서 실행할 수 있다는 점을 제외하면 NumPy의 배열과 유사하다. \n",
        "* Tensor는 아래 그림과 같이 기본적으로 3차원이상을 지칭한다. \n",
        "<img src = \"https://drive.google.com/uc?id=1vVKL1YLPd78HQE_oNOED0S4CxRj7HL5i\" height = 500 width = 700>"
      ]
    },
    {
      "cell_type": "markdown",
      "metadata": {
        "id": "t5Ko-ZaAS0wZ"
      },
      "source": [
        "### **1.2 Tensor 초기화하기**\n",
        "* Tensor는 다양한 방식으로 초기화할수 있다. 다음은 여러 가지 방식들 중 한가지 예이다."
      ]
    },
    {
      "cell_type": "code",
      "execution_count": 5,
      "metadata": {
        "colab": {
          "base_uri": "https://localhost:8080/"
        },
        "id": "X5NlMYwPRlPQ",
        "outputId": "707d2422-6f2a-4143-b97e-13b8c120f280"
      },
      "outputs": [
        {
          "output_type": "stream",
          "name": "stdout",
          "text": [
            "tensor([[1, 2],\n",
            "        [3, 4]])\n"
          ]
        }
      ],
      "source": [
        "import torch\n",
        "import numpy as np\n",
        "\n",
        "data = [[1, 2],[3, 4]]\n",
        "x_data = torch.tensor(data)\n",
        "print(x_data)"
      ]
    },
    {
      "cell_type": "markdown",
      "metadata": {
        "id": "csGtMWKCUJ9T"
      },
      "source": [
        "* Tensor는 Numpy와 자유롭게 상호 변환이 가능합니다."
      ]
    },
    {
      "cell_type": "code",
      "execution_count": 6,
      "metadata": {
        "colab": {
          "base_uri": "https://localhost:8080/"
        },
        "id": "pF8_0RDgUQmf",
        "outputId": "92d477ac-7328-40e8-bf2e-314e121fbb12"
      },
      "outputs": [
        {
          "output_type": "stream",
          "name": "stdout",
          "text": [
            "<class 'numpy.ndarray'>\n",
            "<class 'torch.Tensor'>\n"
          ]
        }
      ],
      "source": [
        "np_array = np.array(data) # tensor -> numpy 변환 \n",
        "print(type(np_array))\n",
        "x_np = torch.from_numpy(np_array) # numpy -> tensor 변환 \n",
        "print(type(x_np))"
      ]
    },
    {
      "cell_type": "markdown",
      "metadata": {
        "id": "4iTwQ3CqYiOi"
      },
      "source": [
        "* 이미 만들어진 Tensor로부터 속성 값(크기, 데이터 타입)을 유지한 새로운 Tensor를 생성 할 수 있다."
      ]
    },
    {
      "cell_type": "code",
      "execution_count": 7,
      "metadata": {
        "colab": {
          "base_uri": "https://localhost:8080/"
        },
        "id": "0VQcG-nnWL_T",
        "outputId": "8fac2fd8-7632-4b5e-d68a-62163a6a1c34"
      },
      "outputs": [
        {
          "output_type": "stream",
          "name": "stdout",
          "text": [
            "1로 채워진 Tensor: \n",
            " tensor([[1, 1],\n",
            "        [1, 1]]) \n",
            "\n",
            "랜덤 Tensor: \n",
            " tensor([[0.7241, 0.1371],\n",
            "        [0.1858, 0.6831]]) \n",
            "\n"
          ]
        }
      ],
      "source": [
        "x_ones = torch.ones_like(x_data) # x_data의 크기 및 데이터 타입을 똑같이 가져오고 모두 1인 값으로 채움 \n",
        "print(f\"1로 채워진 Tensor: \\n {x_ones} \\n\")\n",
        "\n",
        "x_rand = torch.rand_like(x_data, dtype=torch.float) # x_data의 크기 및 데이터 타입을 똑같이 가져오고 랜덤 값을 채움\n",
        "print(f\"랜덤 Tensor: \\n {x_rand} \\n\")"
      ]
    },
    {
      "cell_type": "markdown",
      "metadata": {
        "id": "4oZ_-pC-ZNGY"
      },
      "source": [
        "### **1.3 Tensor 속성(Attributes)**"
      ]
    },
    {
      "cell_type": "code",
      "execution_count": 8,
      "metadata": {
        "colab": {
          "base_uri": "https://localhost:8080/"
        },
        "id": "2uD4ExuNZImn",
        "outputId": "66b3f48c-4b4c-47fd-f3ff-787647db598b"
      },
      "outputs": [
        {
          "output_type": "stream",
          "name": "stdout",
          "text": [
            "tensor의 크기 : torch.Size([3, 4])\n",
            "tensor의 데이터 타입: torch.float32\n",
            "tensor가 저장된 장치 정보 : cpu\n"
          ]
        }
      ],
      "source": [
        "tensor = torch.rand(3,4)\n",
        "\n",
        "print(f\"tensor의 크기 : {tensor.shape}\")\n",
        "print(f\"tensor의 데이터 타입: {tensor.dtype}\")\n",
        "print(f\"tensor가 저장된 장치 정보 : {tensor.device}\")"
      ]
    },
    {
      "cell_type": "markdown",
      "metadata": {
        "id": "oT7oaQUiZwgM"
      },
      "source": [
        "## **2 Tensor Shape 변경**"
      ]
    },
    {
      "cell_type": "markdown",
      "metadata": {
        "id": "ZUoXc8rHZ70l"
      },
      "source": [
        "### **2.1 reshape**\n",
        "* numpy의 reshape와 동일하다. tensor의 차원을 변경"
      ]
    },
    {
      "cell_type": "code",
      "execution_count": 9,
      "metadata": {
        "colab": {
          "base_uri": "https://localhost:8080/"
        },
        "id": "USDHuK7ZaNP8",
        "outputId": "76764f0d-9940-4909-84e1-bfe39c5e6a4c"
      },
      "outputs": [
        {
          "output_type": "stream",
          "name": "stdout",
          "text": [
            "tensor a : tensor([[ 1,  2,  3],\n",
            "        [ 4,  5,  6],\n",
            "        [ 7,  8,  9],\n",
            "        [10, 11, 12]])\n",
            "tensor a size: torch.Size([4, 3])\n",
            "new_a : tensor([[[ 1,  2],\n",
            "         [ 3,  4]],\n",
            "\n",
            "        [[ 5,  6],\n",
            "         [ 7,  8]],\n",
            "\n",
            "        [[ 9, 10],\n",
            "         [11, 12]]])\n",
            "new_a size : torch.Size([3, 2, 2])\n"
          ]
        }
      ],
      "source": [
        "a = torch.tensor([[1,2,3],\n",
        "                  [4,5,6],\n",
        "                  [7,8,9],\n",
        "                  [10,11,12]]) # 4 x 3 2차원 tensor\n",
        "print(\"tensor a : {}\".format(a))\n",
        "print(\"tensor a size: {}\".format(a.shape))\n",
        "\n",
        "\n",
        "\n",
        "new_a = a.reshape((3,2,2)) # 3 x 2 x 2 tensor\n",
        "print(\"new_a : {}\".format(new_a))\n",
        "print(\"new_a size : {}\".format(new_a.shape))"
      ]
    },
    {
      "cell_type": "markdown",
      "metadata": {
        "id": "pRHXTdCkaAje"
      },
      "source": [
        "### **2.2 view**\n",
        "* reshape 연산과 마찬가지로 같은 데이터 타입과 같은 원소의 개수를 가지지만 크기가 다른 새로운 tensor를 반환한다."
      ]
    },
    {
      "cell_type": "code",
      "execution_count": 10,
      "metadata": {
        "colab": {
          "base_uri": "https://localhost:8080/"
        },
        "id": "wnZAIl9AZmT1",
        "outputId": "07f26f09-8647-43b8-d509-c0671756243b"
      },
      "outputs": [
        {
          "output_type": "stream",
          "name": "stdout",
          "text": [
            "tensor a : tensor([[ 1,  2,  3],\n",
            "        [ 4,  5,  6],\n",
            "        [ 7,  8,  9],\n",
            "        [10, 11, 12]])\n",
            "tensor a size: torch.Size([4, 3])\n",
            "new_a : tensor([[[ 1,  2],\n",
            "         [ 3,  4]],\n",
            "\n",
            "        [[ 5,  6],\n",
            "         [ 7,  8]],\n",
            "\n",
            "        [[ 9, 10],\n",
            "         [11, 12]]])\n",
            "new_a size : torch.Size([3, 2, 2])\n"
          ]
        }
      ],
      "source": [
        "a = torch.tensor([[1,2,3],\n",
        "                  [4,5,6],\n",
        "                  [7,8,9],\n",
        "                  [10,11,12]]) # 4 x 3 2차원 tensor\n",
        "print(\"tensor a : {}\".format(a))\n",
        "print(\"tensor a size: {}\".format(a.shape))\n",
        "\n",
        "\n",
        "\n",
        "new_a = a.view(-1,2,2) # -1은 크기 추론 \n",
        "print(\"new_a : {}\".format(new_a))\n",
        "print(\"new_a size : {}\".format(new_a.shape))"
      ]
    },
    {
      "cell_type": "markdown",
      "metadata": {
        "id": "MQmLjthHkF0C"
      },
      "source": [
        "## **3 Tensor 주요 연산**\n"
      ]
    },
    {
      "cell_type": "markdown",
      "metadata": {
        "id": "h2SEOVbmNrDt"
      },
      "source": [
        "### 3.1 행렬 곱과 요소 곱"
      ]
    },
    {
      "cell_type": "code",
      "execution_count": 11,
      "metadata": {
        "colab": {
          "base_uri": "https://localhost:8080/"
        },
        "id": "vvCLiqy7kJEP",
        "outputId": "c51791dd-908c-437c-f99a-3801fd5e44cb"
      },
      "outputs": [
        {
          "output_type": "stream",
          "name": "stdout",
          "text": [
            "tensor([[ 14,  32,  50,  68],\n",
            "        [ 32,  77, 122, 167],\n",
            "        [ 50, 122, 194, 266],\n",
            "        [ 68, 167, 266, 365]])\n",
            "tensor([[ 14,  32,  50,  68],\n",
            "        [ 32,  77, 122, 167],\n",
            "        [ 50, 122, 194, 266],\n",
            "        [ 68, 167, 266, 365]])\n",
            "tensor([[  1,   4,   9],\n",
            "        [ 16,  25,  36],\n",
            "        [ 49,  64,  81],\n",
            "        [100, 121, 144]])\n",
            "tensor([[  1,   4,   9],\n",
            "        [ 16,  25,  36],\n",
            "        [ 49,  64,  81],\n",
            "        [100, 121, 144]])\n"
          ]
        }
      ],
      "source": [
        "tensor = torch.tensor([[1,2,3],\n",
        "                  [4,5,6],\n",
        "                  [7,8,9],\n",
        "                  [10,11,12]]) # 4 x 3 2차원 tensor\n",
        "\n",
        "# 행렬 곱(matrix multiplication) 연산의 다양한 표현 \n",
        "y1 = tensor @ tensor.T\n",
        "print(y1)\n",
        "y2 = tensor.matmul(tensor.T)\n",
        "print(y2)\n",
        "\n",
        "# 요소별 곱(element-wise multiplication)\n",
        "z1 = tensor * tensor\n",
        "print(z1)\n",
        "z2 = tensor.mul(tensor)\n",
        "print(z2)"
      ]
    },
    {
      "cell_type": "markdown",
      "metadata": {
        "id": "Hr1FTFS-NzYO"
      },
      "source": [
        "### 3.2 최대 최소 "
      ]
    },
    {
      "cell_type": "code",
      "execution_count": 12,
      "metadata": {
        "colab": {
          "base_uri": "https://localhost:8080/"
        },
        "id": "cz3kvRh5N5zs",
        "outputId": "c84b4f4d-a09d-4f0f-a0d4-c2024a6ec07d"
      },
      "outputs": [
        {
          "output_type": "stream",
          "name": "stdout",
          "text": [
            "tensor([[ 1,  2,  3],\n",
            "        [ 4,  5,  6],\n",
            "        [ 7,  8,  9],\n",
            "        [10, 11, 12]])\n",
            "max : 12\n",
            "min : 1\n",
            "행 방향 최댓값 : tensor([ 3,  6,  9, 12])\n",
            "행 방향 최댓값 index : tensor([2, 2, 2, 2])\n",
            "열 방향 최댓값 : tensor([10, 11, 12])\n",
            "열 방향 최댓값 index : tensor([3, 3, 3])\n"
          ]
        }
      ],
      "source": [
        "tensor = torch.tensor([[1,2,3],\n",
        "                  [4,5,6],\n",
        "                  [7,8,9],\n",
        "                  [10,11,12]]) # 4 x 3 2차원 tensor\n",
        "\n",
        "print(tensor)\n",
        "# 전체 최댓값\n",
        "max_value = tensor.max()\n",
        "print(\"max : {}\".format(max_value))\n",
        "# 전체 최솟값\n",
        "min_value = tensor.min()\n",
        "print(\"min : {}\".format(min_value))\n",
        "\n",
        "# 최댓값 index, 축 방향에 따라\n",
        "# dim : 감소시킬 차원\n",
        "# dim == 0 : 행(row)을 감소시킴 -> 열 별로 \n",
        "# dim == 1 : 열(column)을 감소시킴 -> 행 별로 \n",
        "values, indices = torch.max(tensor,dim=1)\n",
        "print(\"행 방향 최댓값 : {}\".format(values))\n",
        "print(\"행 방향 최댓값 index : {}\".format(indices))\n",
        "\n",
        "\n",
        "values, indices = torch.max(tensor,dim=0)\n",
        "print(\"열 방향 최댓값 : {}\".format(values))\n",
        "print(\"열 방향 최댓값 index : {}\".format(indices))"
      ]
    },
    {
      "cell_type": "markdown",
      "metadata": {
        "id": "sokqaXRKlhTc"
      },
      "source": [
        "## 4 데이터 불러오기 (CIFAR-10 dataset)\n",
        "* CIFAT10 dataset은 10개의 분류 범주로 나누어진 60000장의 이미지들로 구성.\n",
        "* 각 이미지의 크기는 32 x 32\n",
        "* 훈련 데이터 : 50000장\n",
        "* 테스트 데이터 : 10000장 \n",
        "\n",
        "<img src = \"https://drive.google.com/uc?id=1MR6NfqxqiJonwDfsb_6bh2Oo4k8jmc4b\" height = 500 width = 700>\n"
      ]
    },
    {
      "cell_type": "code",
      "execution_count": 4,
      "metadata": {
        "colab": {
          "base_uri": "https://localhost:8080/"
        },
        "id": "1WyqlRzKlIYA",
        "outputId": "daa264fe-df14-4567-b3f1-5b94b4bc2f29"
      },
      "outputs": [
        {
          "output_type": "stream",
          "name": "stdout",
          "text": [
            "1.12.1+cu113\n"
          ]
        }
      ],
      "source": [
        "import torchvision\n",
        "import torchvision.transforms as transforms\n",
        "print(torch.__version__)"
      ]
    },
    {
      "cell_type": "code",
      "execution_count": 5,
      "metadata": {
        "colab": {
          "base_uri": "https://localhost:8080/",
          "height": 103,
          "referenced_widgets": [
            "6322f5ee113f495691632a2b7e494f62",
            "ebb50416a26a4d72baf41641ca68b1e7",
            "4ff76866fbd74a87ac8843d2f3b3b2ed",
            "f994a562f51c4b6f988b11ca6fd8da75",
            "b2684fcce2b8452eb926aeb09a29a4a5",
            "a947c0aa44f946b5a69494a1dcc60b9b",
            "14be3982b9064b6f80bb8ba35aa77a74",
            "471600c9935f4932b9365722d1fdefad",
            "0baf74b467474aa180047dff1081fde1",
            "2da63a278cf14ce9a99e95e6a35fd67f",
            "ad6498685f294b0e981867be290db88a"
          ]
        },
        "id": "37jW-wC4RXT0",
        "outputId": "575484f3-486b-4e62-9b87-bdff0001f256"
      },
      "outputs": [
        {
          "output_type": "stream",
          "name": "stdout",
          "text": [
            "Downloading https://www.cs.toronto.edu/~kriz/cifar-10-python.tar.gz to ./data/cifar-10-python.tar.gz\n"
          ]
        },
        {
          "output_type": "display_data",
          "data": {
            "text/plain": [
              "  0%|          | 0/170498071 [00:00<?, ?it/s]"
            ],
            "application/vnd.jupyter.widget-view+json": {
              "version_major": 2,
              "version_minor": 0,
              "model_id": "6322f5ee113f495691632a2b7e494f62"
            }
          },
          "metadata": {}
        },
        {
          "output_type": "stream",
          "name": "stdout",
          "text": [
            "Extracting ./data/cifar-10-python.tar.gz to ./data\n",
            "Files already downloaded and verified\n"
          ]
        }
      ],
      "source": [
        "transform = transforms.Compose(\n",
        "    [transforms.ToTensor(),\n",
        "     transforms.Normalize((0.5, 0.5, 0.5), (0.5, 0.5, 0.5))])\n",
        "\n",
        "# Batch size : 이미지를 훈련시킬 떄 훈련 시키는 이미지 단위\n",
        "batch_size = 4\n",
        "\n",
        "trainset = torchvision.datasets.CIFAR10(root='./data', train=True,\n",
        "                                        download=True, transform=transform)\n",
        "trainloader = torch.utils.data.DataLoader(trainset, batch_size=batch_size,\n",
        "                                          shuffle=True, num_workers=2)\n",
        "\n",
        "testset = torchvision.datasets.CIFAR10(root='./data', train=False,\n",
        "                                       download=True, transform=transform)\n",
        "testloader = torch.utils.data.DataLoader(testset, batch_size=batch_size,\n",
        "                                         shuffle=False, num_workers=2)\n",
        "\n",
        "classes = ('plane', 'car', 'bird', 'cat',\n",
        "           'deer', 'dog', 'frog', 'horse', 'ship', 'truck')"
      ]
    },
    {
      "cell_type": "code",
      "execution_count": 15,
      "metadata": {
        "colab": {
          "base_uri": "https://localhost:8080/"
        },
        "id": "8Zi5QsiKRbRz",
        "outputId": "53835ac0-79ee-48e3-82f2-90e6447a6ee1"
      },
      "outputs": [
        {
          "output_type": "stream",
          "name": "stdout",
          "text": [
            "50000\n",
            "10000\n"
          ]
        }
      ],
      "source": [
        "# 훈련 데이터 및 테스트 데이터 개수 확인\n",
        "print(len(trainset)) # 50000 장\n",
        "print(len(testset)) # 10000 장"
      ]
    },
    {
      "cell_type": "code",
      "execution_count": 16,
      "metadata": {
        "colab": {
          "base_uri": "https://localhost:8080/"
        },
        "id": "qIp1i1OvR64S",
        "outputId": "bcca49fe-edb2-46be-b79b-4021ac5e486c"
      },
      "outputs": [
        {
          "output_type": "stream",
          "name": "stdout",
          "text": [
            "torch.Size([4, 3, 32, 32])\n",
            "<class 'torch.Tensor'>\n",
            "<class 'torch.Tensor'>\n",
            "tensor(-1.)\n",
            "tensor(1.)\n",
            "torch.float32\n",
            "torch.Size([4])\n",
            "tensor([6, 9, 9, 8])\n"
          ]
        }
      ],
      "source": [
        "# 데이터 정보 확인 \n",
        "for img, label in trainloader:\n",
        "  print(img.shape) # 4 x 3 x 32 x 32 == 배치 크기 x 채널수(RGB 3채널) x 높이 x 너비 \n",
        "  print(type(img))\n",
        "  print(type(label)) \n",
        "  # CIFAR-10 Dataset은 -1 ~ 1사이의 값으로 Normalization이 되어있음.\n",
        "  # CIFAR-10 Dataset의 타입은 float32 \n",
        "  print(img.min()) #-1\n",
        "  print(img.max()) # 1\n",
        "  print(img.dtype)\n",
        "  print(label.shape)\n",
        "  print(label) # 0~ 9까지의 범위를 갖음 (총 10개의 클래스)\n",
        "  break"
      ]
    },
    {
      "cell_type": "code",
      "execution_count": 17,
      "metadata": {
        "colab": {
          "base_uri": "https://localhost:8080/",
          "height": 156
        },
        "id": "d8densqbSXYW",
        "outputId": "fbed03e0-8cfb-411b-820d-23afb8f1236c"
      },
      "outputs": [
        {
          "output_type": "stream",
          "name": "stdout",
          "text": [
            "horse dog   frog  frog \n"
          ]
        },
        {
          "output_type": "display_data",
          "data": {
            "text/plain": [
              "<Figure size 432x288 with 1 Axes>"
            ],
            "image/png": "[encoded data removed]"
          },
          "metadata": {
            "needs_background": "light"
          }
        }
      ],
      "source": [
        "# 데이터 직접 시각화 \n",
        "%matplotlib inline\n",
        "import matplotlib.pyplot as plt\n",
        "import numpy as np\n",
        "\n",
        "def imshow(img):\n",
        "    img = img / 2 + 0.5 #  [-1,1] -> [0,1]로 바꿈 unnormalize\n",
        "    npimg = img.numpy()\n",
        "    plt.imshow(np.transpose(npimg, (1, 2, 0)))\n",
        "    plt.show()\n",
        "\n",
        "# 랜덤하게 섞은 훈련 데이터를 가져온다\n",
        "dataiter = iter(trainloader)\n",
        "images, labels = next(dataiter)\n",
        "\n",
        "# 각 이미지에 대한 class(target 값)들을 출력\n",
        "print(' '.join(f'{classes[labels[j]]:5s}' for j in range(batch_size)))\n",
        "# 각 이미지를 배치 단위로 보여준다\n",
        "imshow(torchvision.utils.make_grid(images))"
      ]
    },
    {
      "cell_type": "markdown",
      "metadata": {
        "id": "cn1T2u9Ha6_T"
      },
      "source": [
        "## 5 Pytorch Module API를 이용한 Neural Network 정의 및 사용법"
      ]
    },
    {
      "cell_type": "markdown",
      "metadata": {
        "id": "e-ZRBpRScIT1"
      },
      "source": [
        "### 5.1 이미지 분류 모델 전체적인 개요\n",
        "* 데이터가 들어온다(일반적으로 전처리를 함)\n",
        "* 딥러닝 모델에 데이터를 넣고 학습 시킨다\n",
        "* 학습 시킨 결과를 정답과 비교하여 손실 함수를 계산한다.\n",
        "* 손실 함수를 미분하여(backpropagation) 모델의 학습 파라미터를 업데이트 한다.\n",
        "* 위 과정을 일정 횟수만큼 반복한다\n",
        "* 학습 과정을 통해 얻은 모델 파라미터를 가지고 실제 테스트 데이터에 대해서 예측한다.\n",
        "* ***본 실습에서는 모델 구조를 디자인 것에 초점을 맞춘다.***\n",
        "\n",
        "<img src = \"https://drive.google.com/uc?id=1zEAialJ9VWbJltBMojLcsx9uuVQIQKpD\" height = 400 width = 700>\n",
        "\n"
      ]
    },
    {
      "cell_type": "markdown",
      "metadata": {
        "id": "GTiHWdDTicSq"
      },
      "source": [
        "### 5.2 Pytorch Module API 구조\n",
        "* Pytorch의 ```nn.Module```을 상속받아 Model을 정의할 클래스를 생성\n",
        "* 그 클래스의 내부 함수는 모델의 속성 값과 Layer에 대한 정보를 정의하는 ```__init__```함수와 모델이 데이터를 받아 실제 연산을 수행하는 ```forward``` 함수로 크게 구성되어 있다.\n",
        "* ```forward```의 함수의 경우 모델을 생성 후(클래스의 객체 생성) 인자로 데이터를 받는데 이 함수를 직접 호출하는 것이 아닌 모델 객체에 인자로 넣어주면 ```Backend```으로 실행한다는 것에 주의\n",
        "* 아래는 간단한 딥러닝 모델을 설계한 예시이다\n",
        "\n",
        "\n",
        "```python\n",
        "import torch.nn as nn\n",
        "import torch.nn.functional as F\n",
        "\n",
        "\n",
        "class My_Neural_Net(nn.Module):\n",
        "    def __init__(self):\n",
        "        super().__init__()\n",
        "        self.conv1 = nn.Conv2d(3, 6, 5)\n",
        "        self.pool = nn.MaxPool2d(2, 2)\n",
        "        self.conv2 = nn.Conv2d(6, 16, 5)\n",
        "        self.fc1 = nn.Linear(16 * 5 * 5, 120)\n",
        "        self.fc2 = nn.Linear(120, 84)\n",
        "        self.fc3 = nn.Linear(84, 10)\n",
        "\n",
        "    def forward(self, x):\n",
        "        x = self.pool(F.relu(self.conv1(x)))\n",
        "        x = self.pool(F.relu(self.conv2(x)))\n",
        "        x = torch.flatten(x, 1) # flatten all dimensions except batch\n",
        "        x = F.relu(self.fc1(x))\n",
        "        x = F.relu(self.fc2(x))\n",
        "        x = self.fc3(x)\n",
        "        return x\n",
        "\n",
        "# 모델 객체 생성\n",
        "net = My_Neural_Net()\n",
        "# 모델에 데이터를 넣어서 forward함수 실행(backend로)해서 모델의 결과값 출력\n",
        "# forward 함수를 직접 호출하지 않는 것에 주의한다.\n",
        "output = net(data) \n",
        "```"
      ]
    },
    {
      "cell_type": "markdown",
      "metadata": {
        "id": "U75JmFPxiaJA"
      },
      "source": [
        "## 6 간단한 선형 분류기(Linear Classifier) 구현\n",
        "* 2개의 Hidden layer를 갖는 model 구현\n",
        "* Linear Classifier는 Fullly Connected Layer(줄여서 FC)로 구현\n",
        "* 다음은 구현 모덜의 간단한 예시\n",
        "\n",
        "<img src = \"https://drive.google.com/uc?id=1OUWMAwigkbWhGgVp3dhxh8jE3Ljiq3TS\" height = 400 width = 700>\n"
      ]
    },
    {
      "cell_type": "markdown",
      "metadata": {
        "id": "3YQ6hiPyppZa"
      },
      "source": [
        "### 6.1 간단한 선형 분류기(Linear Classifier) 직관적 이해\n",
        "\n",
        "<img src = \"https://drive.google.com/uc?id=1kRGyhlxPk3k71rQAoiEwvScIovxzZ_nb\" height = 400 width = 800>\n",
        "\n",
        "<img src = \"https://drive.google.com/uc?id=1ae98uHvMtOeGXosxEtXvNmLYkoBuljhb\" height = 400 width = 800>\n",
        "\n",
        "<img src = \"https://drive.google.com/uc?id=198omwNwirr7gktp5aKDOhNvE4LNQBUw2\" height = 400 width = 800>\n"
      ]
    },
    {
      "cell_type": "markdown",
      "metadata": {
        "id": "gLtwafA1sMCl"
      },
      "source": [
        "### 6.2 간단한 선형 분류기(Linear Classifier) 모델 Pytorch 구현\n",
        "* 모델의 Layer는 총 3개(hidden layer 2개 + output layer 1개)로 구성\n",
        "* ```nn.Linear(in_features, out_features, bias=True, device=None, dtype=None)```을 사용하여 FC 구현\n",
        "* ```nn.Linear```의 인자\n",
        "* ```in_features``` : 입력 데이터의 차원\n",
        "* ```out_features``` : 결과 값의 차원\n",
        " "
      ]
    },
    {
      "cell_type": "code",
      "execution_count": 18,
      "metadata": {
        "id": "gcqjhpBuXEy_"
      },
      "outputs": [],
      "source": [
        "from torch import nn\n",
        "random_seed = 1114\n",
        "torch.manual_seed(random_seed)\n",
        "class My_Linear_model(nn.Module):\n",
        "    def __init__(self):\n",
        "        super().__init__()\n",
        "        self.fc1 = nn.Linear(32 * 32 * 3, 512) #히든 레이어 개수 512개\n",
        "        self.activation1 = nn.ReLU()\n",
        "        self.fc2 = nn.Linear(512, 512)\n",
        "        self.activation2 = nn.ReLU()\n",
        "        self.out_fc = nn.Linear(512, 10)  #클래스 개수(10개)만큼 반환\n",
        "\n",
        "    def forward(self, x):\n",
        "        # x는 기본적으로 4차원 데이터\n",
        "        # x : 배치 사이즈 x 3(채널수) x 높이 x 너비 \n",
        "        x = x.flatten(1) # 채널 차원부터 ~ 너비까지 모두 1차원 vector로 만듦\n",
        "        x = self.fc1(x)\n",
        "        x = self.activation1(x)\n",
        "        x = self.fc2(x)\n",
        "        x = self.activation2(x)\n",
        "        x = self.out_fc(x)\n",
        "        return x"
      ]
    },
    {
      "cell_type": "code",
      "execution_count": 19,
      "metadata": {
        "colab": {
          "base_uri": "https://localhost:8080/"
        },
        "id": "bv7MR6YHvdUx",
        "outputId": "76fa81be-ad8d-482f-a6b1-3dfbebc4e8d5"
      },
      "outputs": [
        {
          "output_type": "stream",
          "name": "stdout",
          "text": [
            "cuda\n",
            "model info : \n",
            " My_Linear_model(\n",
            "  (fc1): Linear(in_features=3072, out_features=512, bias=True)\n",
            "  (activation1): ReLU()\n",
            "  (fc2): Linear(in_features=512, out_features=512, bias=True)\n",
            "  (activation2): ReLU()\n",
            "  (out_fc): Linear(in_features=512, out_features=10, bias=True)\n",
            ")\n"
          ]
        }
      ],
      "source": [
        "device = 'cuda' if torch.cuda.is_available() else 'cpu'\n",
        "print(device)\n",
        "model = My_Linear_model().to(device)\n",
        "print(\"model info : \\n {}\".format(model))"
      ]
    },
    {
      "cell_type": "code",
      "execution_count": 20,
      "metadata": {
        "colab": {
          "base_uri": "https://localhost:8080/"
        },
        "id": "XxVtO_wkv73J",
        "outputId": "893f1169-c18b-4ade-df40-7a2b5adc9f1c"
      },
      "outputs": [
        {
          "output_type": "stream",
          "name": "stdout",
          "text": [
            "output shape : torch.Size([1, 10])\n",
            "y_pred shape : tensor([4], device='cuda:0')\n",
            "predicted class : tensor([4], device='cuda:0')\n"
          ]
        }
      ],
      "source": [
        "# Training 하기 전 모델 예측 테스트\n",
        "x = torch.rand(1,3,32,32,device=device)\n",
        "output = model(x)\n",
        "print(\"output shape : {}\".format(output.shape))\n",
        "prob_output = nn.Softmax(dim=-1)(output)\n",
        "y_pred = prob_output.argmax(-1)\n",
        "print(\"y_pred shape : {}\".format(y_pred))\n",
        "print(\"predicted class : {}\".format(y_pred))\n"
      ]
    },
    {
      "cell_type": "code",
      "execution_count": 21,
      "metadata": {
        "id": "TGeakOcnx0xQ"
      },
      "outputs": [],
      "source": [
        "# loss 및 optimizer 정의 \n",
        "import torch.optim as optim\n",
        "\n",
        "criterion = nn.CrossEntropyLoss()\n",
        "optimizer = optim.SGD(model.parameters(), lr=0.001, momentum=0.9)"
      ]
    },
    {
      "cell_type": "code",
      "execution_count": 22,
      "metadata": {
        "colab": {
          "base_uri": "https://localhost:8080/"
        },
        "id": "FYk8BpbCyYxn",
        "outputId": "bf84788d-9c25-4bd6-e7ae-053c2324f90c"
      },
      "outputs": [
        {
          "output_type": "stream",
          "name": "stdout",
          "text": [
            "[1,  2000] loss: 1.922\n",
            "[1,  4000] loss: 1.690\n",
            "[1,  6000] loss: 1.635\n",
            "[1,  8000] loss: 1.586\n",
            "[1, 10000] loss: 1.558\n",
            "[1, 12000] loss: 1.509\n",
            "[2,  2000] loss: 1.414\n",
            "[2,  4000] loss: 1.428\n",
            "[2,  6000] loss: 1.437\n",
            "[2,  8000] loss: 1.408\n",
            "[2, 10000] loss: 1.395\n",
            "[2, 12000] loss: 1.383\n",
            "[3,  2000] loss: 1.291\n",
            "[3,  4000] loss: 1.288\n",
            "[3,  6000] loss: 1.294\n",
            "[3,  8000] loss: 1.295\n",
            "[3, 10000] loss: 1.295\n",
            "[3, 12000] loss: 1.299\n",
            "[4,  2000] loss: 1.166\n",
            "[4,  4000] loss: 1.187\n",
            "[4,  6000] loss: 1.188\n",
            "[4,  8000] loss: 1.198\n",
            "[4, 10000] loss: 1.229\n",
            "[4, 12000] loss: 1.199\n",
            "[5,  2000] loss: 1.051\n",
            "[5,  4000] loss: 1.112\n",
            "[5,  6000] loss: 1.115\n",
            "[5,  8000] loss: 1.114\n",
            "[5, 10000] loss: 1.118\n",
            "[5, 12000] loss: 1.163\n",
            "[6,  2000] loss: 0.994\n",
            "[6,  4000] loss: 1.023\n",
            "[6,  6000] loss: 1.017\n",
            "[6,  8000] loss: 1.021\n",
            "[6, 10000] loss: 1.066\n",
            "[6, 12000] loss: 1.064\n",
            "[7,  2000] loss: 0.902\n",
            "[7,  4000] loss: 0.960\n",
            "[7,  6000] loss: 0.945\n",
            "[7,  8000] loss: 0.973\n",
            "[7, 10000] loss: 0.964\n",
            "[7, 12000] loss: 0.998\n",
            "[8,  2000] loss: 0.835\n",
            "[8,  4000] loss: 0.847\n",
            "[8,  6000] loss: 0.883\n",
            "[8,  8000] loss: 0.879\n",
            "[8, 10000] loss: 0.914\n",
            "[8, 12000] loss: 0.910\n",
            "[9,  2000] loss: 0.745\n",
            "[9,  4000] loss: 0.776\n",
            "[9,  6000] loss: 0.816\n",
            "[9,  8000] loss: 0.846\n",
            "[9, 10000] loss: 0.852\n",
            "[9, 12000] loss: 0.842\n",
            "[10,  2000] loss: 0.683\n",
            "[10,  4000] loss: 0.708\n",
            "[10,  6000] loss: 0.746\n",
            "[10,  8000] loss: 0.740\n",
            "[10, 10000] loss: 0.768\n",
            "[10, 12000] loss: 0.790\n",
            "Finished Training\n"
          ]
        }
      ],
      "source": [
        "# 훈련 하기\n",
        "\n",
        "\n",
        "for epoch in range(10):   # 데이터셋을 수차례 반복합니다.\n",
        "\n",
        "    running_loss = 0.0\n",
        "    for i, data in enumerate(trainloader, 0):\n",
        "        # [inputs, labels]의 목록인 data로부터 입력을 받은 후;\n",
        "        inputs, labels = data[0].to(device), data[1].to(device)\n",
        "\n",
        "        # 변화도(Gradient) 매개변수를 0으로 만들고\n",
        "        optimizer.zero_grad()\n",
        "\n",
        "        # 순전파 + 역전파 + 최적화를 한 후\n",
        "        outputs = model(inputs)\n",
        "        loss = criterion(outputs, labels)\n",
        "        loss.backward()\n",
        "        optimizer.step()\n",
        "\n",
        "        # 통계를 출력합니다.\n",
        "        running_loss += loss.item()\n",
        "        if i % 2000 == 1999:    # print every 2000 mini-batches\n",
        "            print(f'[{epoch + 1}, {i + 1:5d}] loss: {running_loss / 2000:.3f}')\n",
        "            running_loss = 0.0\n",
        "\n",
        "#loss가 점점 감소한다\n",
        "print('Finished Training')"
      ]
    },
    {
      "cell_type": "code",
      "execution_count": 23,
      "metadata": {
        "id": "k0FjGlzW1InC"
      },
      "outputs": [],
      "source": [
        "# 훈련이 끝난 모델의 파라미터 저장\n",
        "PATH = './cifar_net.pth'\n",
        "torch.save(model.state_dict(), PATH)"
      ]
    },
    {
      "cell_type": "code",
      "execution_count": 24,
      "metadata": {
        "colab": {
          "base_uri": "https://localhost:8080/"
        },
        "id": "Er10t6Lw3rWy",
        "outputId": "a2286d48-2066-4ed5-ab61-32460c06bcc3"
      },
      "outputs": [
        {
          "output_type": "execute_result",
          "data": {
            "text/plain": [
              "<All keys matched successfully>"
            ]
          },
          "metadata": {},
          "execution_count": 24
        }
      ],
      "source": [
        "# 새로운 모델 객체를 만들고 저장했던 가중치를 불러옴\n",
        "new_model = My_Linear_model()\n",
        "new_model.load_state_dict(torch.load(PATH))"
      ]
    },
    {
      "cell_type": "code",
      "execution_count": 25,
      "metadata": {
        "colab": {
          "base_uri": "https://localhost:8080/"
        },
        "id": "tSfZwbiz364B",
        "outputId": "0b5dfc46-d479-4521-f875-1e01135372ea"
      },
      "outputs": [
        {
          "output_type": "stream",
          "name": "stdout",
          "text": [
            "Accuracy of the network on the 10000 test images: 54 %\n"
          ]
        }
      ],
      "source": [
        "# Test 데이터로 모델 정확도 평가 \n",
        "correct = 0\n",
        "total = 0\n",
        "model.to(device)\n",
        "# since we're not training, we don't need to calculate the gradients for our outputs\n",
        "with torch.no_grad():\n",
        "    for data in testloader:\n",
        "        images, labels = data[0].to(device), data[1].to(device)\n",
        "        # calculate outputs by running images through the network\n",
        "        outputs = model(images)\n",
        "        # the class with the highest energy is what we choose as prediction\n",
        "        _, predicted = torch.max(outputs.data, 1)\n",
        "        total += labels.size(0)\n",
        "        correct += (predicted == labels).sum().item()\n",
        "\n",
        "print(f'Accuracy of the network on the 10000 test images: {100 * correct // total} %')"
      ]
    },
    {
      "cell_type": "markdown",
      "metadata": {
        "id": "C4rDxo-E46mS"
      },
      "source": [
        "## 7 과제 - CNN(Convolutional Neural Network) 모델 구현하기\n",
        "* CNN 모델을 자유롭게 구현하여 위의 Linear Classifier의 Test data에 대한 성능보다 더 높게 나오는 것이 목표\n",
        "* 기본적으로 각 Layer는 ```nn.Conv2d``` -> ```nn.ReLU``` 로 구성(추가로 ```nn.ReLU``` 다음에 ```nn.MaxPool2d```도 사용 가능하나 이건 선택)\n",
        "* ```nn.Conv2d(in_channels, out_channels, kernel_size, stride=1, padding=0, dilation=1, groups=1, bias=True, padding_mode='zeros', device=None, dtype=None)``` 사용할 것(https://pytorch.org/docs/stable/generated/torch.nn.Conv2d.html?highlight=conv2d#torch.nn.Conv2d API 문서 참고)\n",
        "* ```nn.Conv2d``` 주요 인자\n",
        "* ```in_channels``` : 입력 데이터의 채널 차원\n",
        "* ```out_channels``` : 결과로 나올 데이터의 채널 차원\n",
        "* ```kernel_size``` : convolution 연산 시 사용할 filter 크기(예를들어, 3x3이면 kernel_size=3)\n",
        "* ```stride``` : convolution 연산 시 보폭(예를들어, stride=2, 2폭)\n",
        "* ```padding``` : convolution 연산 시 padding 폭(예를들어, padding=1, padding 1폭)\n",
        "* 그외 나머지 인자는 특별한 언급이 없는 한 사용하지 않아도 무방.\n",
        "* **Conv 연산시 주의 사항(매우 중요)**\n",
        "  * Conv연산을 하고나면 일반적으로 데이터의 공간적 크기(높이 x 너비)는 줄어들고 대신 채널 차원은 증가한다. 이것의 의미는 공간적 크기를 줄여가면서 (receptive field를 키워나가면서) 이미지의 특징을 집약한다는 것을 의미. \n",
        "\n",
        "<img src = \"https://drive.google.com/uc?id=1A7k5CemeLt4ILoqDdplfn1jtn9kF9zm2\" height = 400 width = 800>\n",
        "\n",
        "  * Conv연산에 따른 공간적 크기가 각 conv layer를 통과할떄 마다 파악을 하고 있어야 한다. 왜냐하면 마지막 Class에 대한 FC Layer를 정의하기 위해서 인자 값으로 입력 데이터의 차원이 필요한데 이때 차원은 3차원의 이미지를 모두 1차원으로 바꾼다. 따라서 이때 1차원으로 바뀐 차원을 미리 계산하여 파악하고 있어야 한다. 공간적 크기가 어떻게 바뀌는지는 다음과 같은 식에 의해서 계산 가능.(여기서 K : kernel size, S : Stride, P: Padding 폭)\n",
        "\n",
        "<img src = \"https://drive.google.com/uc?id=1hptHexxtLiO0KA0TDMi96BDXKVQ0L6c2\" height = 250 width = 500>\n",
        "\n",
        "\n",
        "\n",
        "\n"
      ]
    },
    {
      "cell_type": "code",
      "execution_count": 134,
      "metadata": {
        "id": "_6jqO3Rm4fSN"
      },
      "outputs": [],
      "source": [
        "import torch\n",
        "from torch import nn\n",
        "\n",
        "#\n",
        "import torch.nn.functional as F\n",
        "#\n",
        "\n",
        "class My_CNN(nn.Module):\n",
        "    def __init__(self):\n",
        "        super().__init__()\n",
        "        #####################################\n",
        "        # TODO __init__ 메소드 구현\n",
        "        #####################################\n",
        "\n",
        "        '''\n",
        "        con2d 파라미터 \n",
        "        tf.keras.layers.Conv2D(\n",
        "        filters, kernel_size, strides=(1, 1), padding='valid',\n",
        "        data_format=None, dilation_rate=(1, 1), groups=1, activation=None,\n",
        "        use_bias=True, kernel_initializer='glorot_uniform',\n",
        "        bias_initializer='zeros', kernel_regularizer=None,\n",
        "        bias_regularizer=None, activity_regularizer=None, kernel_constraint=None,\n",
        "        bias_constraint=None, **kwargs  )\n",
        "        \n",
        "\n",
        "        maxpooling 파라미터\n",
        "        tf.keras.layers.MaxPool2D(\n",
        "        pool_size=(2, 2), strides=None, padding='valid', data_format=None,\n",
        "        **kwargs\n",
        "        )\n",
        "\n",
        "        각 이미지의 크기는 32 x 32\n",
        "        '''\n",
        "\n",
        "        super(My_CNN, self).__init__()\n",
        "        \n",
        "\n",
        "        #지정한 커널만큼 확인하면서 가장 큰 값만 남기는과정\n",
        "        #시작 입력이 3\n",
        "        #커널 3으로 해도 비슷\n",
        "        self.conv1 = nn.Conv2d(in_channels=3, out_channels=8, kernel_size=5, padding=2) \n",
        "        self.conv2 = nn.Conv2d(in_channels=8, out_channels=12, kernel_size=5, padding=2) \n",
        "        self.conv3 = nn.Conv2d(in_channels=12, out_channels=16, kernel_size=5, padding=2) \n",
        "\n",
        "        self.pool = nn.MaxPool2d(2, 2)\n",
        "        \n",
        "        #pooling 으로 전체 크기 절반으로 감소)\n",
        "        self.fc1 = nn.Linear(256, 128)\n",
        "        \n",
        "        self.fc2 = nn.Linear(128, 64)\n",
        "        \n",
        "        self.fc3 = nn.Linear(64,32)\n",
        "        \n",
        "        #마지막에 클래스 개수 10개 만큼 반환\n",
        "        self.fc4 = nn.Linear(32,10)\n",
        "\n",
        "\n",
        "    def forward(self, x):\n",
        "        #####################################\n",
        "        # TODO Forward 메소드 구현\n",
        "        # x는 기본적으로 4차원 데이터\n",
        "        # x : 배치 사이즈 x 3(채널수) x 높이 x 너비 \n",
        "        #####################################\n",
        "\n",
        "        #cnn 과정 conv -> relu -> pooling\n",
        "        #conv1 relu maxpool2d \n",
        "        \n",
        "        #print(\"연산 전\", x.size())\n",
        "        x = self.conv1(x)\n",
        "        x = F.relu(x)\n",
        "\n",
        "        #print(\"conv1 연산 후\", x.size())\n",
        "        x = self.pool(x)\n",
        "\n",
        "        x = self.conv2(x)\n",
        "        x = F.relu(x)\n",
        "\n",
        "        #print(\"conv2 연산 후\",x.size())\n",
        "        x = self.pool(x)\n",
        "\n",
        "        x = self.conv3(x)\n",
        "        x = F.relu(x)\n",
        "\n",
        "        #print(\"conv3 연산 후\", x.size())\n",
        "        x = self.pool(x)\n",
        "\n",
        "        #x = x.view(-1, -1)\n",
        "\n",
        "        #일렬\n",
        "        x = torch.flatten(x, 1)\n",
        "        \n",
        "        x = F.relu(self.fc1(x))\n",
        "        #print(\"fc1 연산 후\", x.size())\n",
        "        x = F.relu(self.fc2(x))\n",
        "        #print(\"fc2 연산 후\", x.size())\n",
        "\n",
        "        x = F.relu(self.fc3(x))\n",
        "        \n",
        "        x = self.fc4(x)\n",
        "\n",
        "        return x\n",
        "\n",
        "#위의 53%보다 높게 만들면 만점\n",
        "#조교가 했을 때는 70% 정도"
      ]
    },
    {
      "cell_type": "code",
      "execution_count": 135,
      "metadata": {
        "colab": {
          "base_uri": "https://localhost:8080/"
        },
        "id": "4nexcHUfE5zq",
        "outputId": "c1402731-be1e-4b7a-dcd1-63c2a1ee3f65"
      },
      "outputs": [
        {
          "output_type": "stream",
          "name": "stdout",
          "text": [
            "cuda\n",
            "[1,  2000] loss: 2.303\n",
            "[1,  4000] loss: 2.190\n",
            "[1,  6000] loss: 1.900\n",
            "[1,  8000] loss: 1.743\n",
            "[1, 10000] loss: 1.626\n",
            "[1, 12000] loss: 1.556\n",
            "[2,  2000] loss: 1.481\n",
            "[2,  4000] loss: 1.413\n",
            "[2,  6000] loss: 1.388\n",
            "[2,  8000] loss: 1.353\n",
            "[2, 10000] loss: 1.307\n",
            "[2, 12000] loss: 1.283\n",
            "[3,  2000] loss: 1.238\n",
            "[3,  4000] loss: 1.209\n",
            "[3,  6000] loss: 1.189\n",
            "[3,  8000] loss: 1.174\n",
            "[3, 10000] loss: 1.186\n",
            "[3, 12000] loss: 1.145\n",
            "[4,  2000] loss: 1.110\n",
            "[4,  4000] loss: 1.100\n",
            "[4,  6000] loss: 1.076\n",
            "[4,  8000] loss: 1.079\n",
            "[4, 10000] loss: 1.045\n",
            "[4, 12000] loss: 1.085\n",
            "[5,  2000] loss: 0.996\n",
            "[5,  4000] loss: 1.016\n",
            "[5,  6000] loss: 0.997\n",
            "[5,  8000] loss: 1.001\n",
            "[5, 10000] loss: 1.016\n",
            "[5, 12000] loss: 1.003\n",
            "[6,  2000] loss: 0.946\n",
            "[6,  4000] loss: 0.925\n",
            "[6,  6000] loss: 0.962\n",
            "[6,  8000] loss: 0.939\n",
            "[6, 10000] loss: 0.962\n",
            "[6, 12000] loss: 0.947\n",
            "[7,  2000] loss: 0.887\n",
            "[7,  4000] loss: 0.886\n",
            "[7,  6000] loss: 0.912\n",
            "[7,  8000] loss: 0.923\n",
            "[7, 10000] loss: 0.924\n",
            "[7, 12000] loss: 0.916\n",
            "[8,  2000] loss: 0.853\n",
            "[8,  4000] loss: 0.855\n",
            "[8,  6000] loss: 0.879\n",
            "[8,  8000] loss: 0.877\n",
            "[8, 10000] loss: 0.882\n",
            "[8, 12000] loss: 0.880\n",
            "[9,  2000] loss: 0.812\n",
            "[9,  4000] loss: 0.829\n",
            "[9,  6000] loss: 0.837\n",
            "[9,  8000] loss: 0.857\n",
            "[9, 10000] loss: 0.858\n",
            "[9, 12000] loss: 0.867\n",
            "[10,  2000] loss: 0.777\n",
            "[10,  4000] loss: 0.810\n",
            "[10,  6000] loss: 0.823\n",
            "[10,  8000] loss: 0.807\n",
            "[10, 10000] loss: 0.839\n",
            "[10, 12000] loss: 0.855\n",
            "Finished Training\n"
          ]
        }
      ],
      "source": [
        "device = 'cuda' if torch.cuda.is_available() else 'cpu'\n",
        "print(device)\n",
        "model = My_CNN().to(device)\n",
        "# 모델 아키텍처를 확인하고 싶으면 주석 풀어서 확인 \n",
        "#print(\"model info : \\n {}\".format(model))\n",
        "\n",
        "# loss 및 optimizer 정의 \n",
        "import torch.optim as optim\n",
        "\n",
        "criterion = nn.CrossEntropyLoss()\n",
        "optimizer = optim.SGD(model.parameters(), lr=0.001, momentum=0.9)\n",
        "\n",
        "\n",
        "# 훈련 하기\n",
        "# epoch는 동일하게 10으로 설정 \n",
        "for epoch in range(10):   # 데이터셋을 수차례 반복합니다.\n",
        "\n",
        "    running_loss = 0.0\n",
        "    for i, data in enumerate(trainloader, 0):\n",
        "        # [inputs, labels]의 목록인 data로부터 입력을 받은 후;\n",
        "        inputs, labels = data[0].to(device), data[1].to(device)\n",
        "\n",
        "        # 변화도(Gradient) 매개변수를 0으로 만들고\n",
        "        optimizer.zero_grad()\n",
        "\n",
        "        # 순전파 + 역전파 + 최적화를 한 후\n",
        "        outputs = model(inputs)\n",
        "        loss = criterion(outputs, labels)\n",
        "        loss.backward()\n",
        "        optimizer.step()\n",
        "\n",
        "        # 통계를 출력합니다.\n",
        "        running_loss += loss.item()\n",
        "        if i % 2000 == 1999:    # print every 2000 mini-batches\n",
        "            print(f'[{epoch + 1}, {i + 1:5d}] loss: {running_loss / 2000:.3f}')\n",
        "            running_loss = 0.0\n",
        "\n",
        "print('Finished Training')\n",
        "\n",
        "\n",
        "# 훈련이 끝난 모델의 파라미터 저장\n",
        "PATH = './my_cnn.pth'\n",
        "torch.save(model.state_dict(), PATH)"
      ]
    },
    {
      "cell_type": "code",
      "execution_count": 137,
      "metadata": {
        "colab": {
          "base_uri": "https://localhost:8080/"
        },
        "id": "Q1JLbmujLJmm",
        "outputId": "854a9188-64ad-459e-8a25-10d0223850c3"
      },
      "outputs": [
        {
          "output_type": "stream",
          "name": "stdout",
          "text": [
            "Accuracy of the network on the 10000 test images: 63 %\n"
          ]
        }
      ],
      "source": [
        "# 새로운 모델 객체를 만들고 저장했던 가중치를 불러옴\n",
        "new_model = My_CNN()\n",
        "new_model.load_state_dict(torch.load(PATH))\n",
        "\n",
        "# Test 데이터로 모델 정확도 평가 \n",
        "correct = 0\n",
        "total = 0\n",
        "model.to(device)\n",
        "with torch.no_grad():\n",
        "    for data in testloader:\n",
        "        images, labels = data[0].to(device), data[1].to(device)\n",
        "        outputs = model(images)\n",
        "        _, predicted = torch.max(outputs.data, 1)\n",
        "        total += labels.size(0)\n",
        "        correct += (predicted == labels).sum().item()\n",
        "\n",
        "print(f'Accuracy of the network on the 10000 test images: {100 * correct // total} %')"
      ]
    }
  ],
  "metadata": {
    "accelerator": "GPU",
    "colab": {
      "provenance": [],
      "toc_visible": true
    },
    "gpuClass": "standard",
    "kernelspec": {
      "display_name": "Python 3 (ipykernel)",
      "language": "python",
      "name": "python3"
    },
    "language_info": {
      "codemirror_mode": {
        "name": "ipython",
        "version": 3
      },
      "file_extension": ".py",
      "mimetype": "text/x-python",
      "name": "python",
      "nbconvert_exporter": "python",
      "pygments_lexer": "ipython3",
      "version": "3.9.12"
    },
    "widgets": {
      "application/vnd.jupyter.widget-state+json": {
        "6322f5ee113f495691632a2b7e494f62": {
          "model_module": "@jupyter-widgets/controls",
          "model_name": "HBoxModel",
          "model_module_version": "1.5.0",
          "state": {
            "_dom_classes": [],
            "_model_module": "@jupyter-widgets/controls",
            "_model_module_version": "1.5.0",
            "_model_name": "HBoxModel",
            "_view_count": null,
            "_view_module": "@jupyter-widgets/controls",
            "_view_module_version": "1.5.0",
            "_view_name": "HBoxView",
            "box_style": "",
            "children": [
              "IPY_MODEL_ebb50416a26a4d72baf41641ca68b1e7",
              "IPY_MODEL_4ff76866fbd74a87ac8843d2f3b3b2ed",
              "IPY_MODEL_f994a562f51c4b6f988b11ca6fd8da75"
            ],
            "layout": "IPY_MODEL_b2684fcce2b8452eb926aeb09a29a4a5"
          }
        },
        "ebb50416a26a4d72baf41641ca68b1e7": {
          "model_module": "@jupyter-widgets/controls",
          "model_name": "HTMLModel",
          "model_module_version": "1.5.0",
          "state": {
            "_dom_classes": [],
            "_model_module": "@jupyter-widgets/controls",
            "_model_module_version": "1.5.0",
            "_model_name": "HTMLModel",
            "_view_count": null,
            "_view_module": "@jupyter-widgets/controls",
            "_view_module_version": "1.5.0",
            "_view_name": "HTMLView",
            "description": "",
            "description_tooltip": null,
            "layout": "IPY_MODEL_a947c0aa44f946b5a69494a1dcc60b9b",
            "placeholder": "​",
            "style": "IPY_MODEL_14be3982b9064b6f80bb8ba35aa77a74",
            "value": "100%"
          }
        },
        "4ff76866fbd74a87ac8843d2f3b3b2ed": {
          "model_module": "@jupyter-widgets/controls",
          "model_name": "FloatProgressModel",
          "model_module_version": "1.5.0",
          "state": {
            "_dom_classes": [],
            "_model_module": "@jupyter-widgets/controls",
            "_model_module_version": "1.5.0",
            "_model_name": "FloatProgressModel",
            "_view_count": null,
            "_view_module": "@jupyter-widgets/controls",
            "_view_module_version": "1.5.0",
            "_view_name": "ProgressView",
            "bar_style": "success",
            "description": "",
            "description_tooltip": null,
            "layout": "IPY_MODEL_471600c9935f4932b9365722d1fdefad",
            "max": 170498071,
            "min": 0,
            "orientation": "horizontal",
            "style": "IPY_MODEL_0baf74b467474aa180047dff1081fde1",
            "value": 170498071
          }
        },
        "f994a562f51c4b6f988b11ca6fd8da75": {
          "model_module": "@jupyter-widgets/controls",
          "model_name": "HTMLModel",
          "model_module_version": "1.5.0",
          "state": {
            "_dom_classes": [],
            "_model_module": "@jupyter-widgets/controls",
            "_model_module_version": "1.5.0",
            "_model_name": "HTMLModel",
            "_view_count": null,
            "_view_module": "@jupyter-widgets/controls",
            "_view_module_version": "1.5.0",
            "_view_name": "HTMLView",
            "description": "",
            "description_tooltip": null,
            "layout": "IPY_MODEL_2da63a278cf14ce9a99e95e6a35fd67f",
            "placeholder": "​",
            "style": "IPY_MODEL_ad6498685f294b0e981867be290db88a",
            "value": " 170498071/170498071 [00:13&lt;00:00, 16247118.35it/s]"
          }
        },
        "b2684fcce2b8452eb926aeb09a29a4a5": {
          "model_module": "@jupyter-widgets/base",
          "model_name": "LayoutModel",
          "model_module_version": "1.2.0",
          "state": {
            "_model_module": "@jupyter-widgets/base",
            "_model_module_version": "1.2.0",
            "_model_name": "LayoutModel",
            "_view_count": null,
            "_view_module": "@jupyter-widgets/base",
            "_view_module_version": "1.2.0",
            "_view_name": "LayoutView",
            "align_content": null,
            "align_items": null,
            "align_self": null,
            "border": null,
            "bottom": null,
            "display": null,
            "flex": null,
            "flex_flow": null,
            "grid_area": null,
            "grid_auto_columns": null,
            "grid_auto_flow": null,
            "grid_auto_rows": null,
            "grid_column": null,
            "grid_gap": null,
            "grid_row": null,
            "grid_template_areas": null,
            "grid_template_columns": null,
            "grid_template_rows": null,
            "height": null,
            "justify_content": null,
            "justify_items": null,
            "left": null,
            "margin": null,
            "max_height": null,
            "max_width": null,
            "min_height": null,
            "min_width": null,
            "object_fit": null,
            "object_position": null,
            "order": null,
            "overflow": null,
            "overflow_x": null,
            "overflow_y": null,
            "padding": null,
            "right": null,
            "top": null,
            "visibility": null,
            "width": null
          }
        },
        "a947c0aa44f946b5a69494a1dcc60b9b": {
          "model_module": "@jupyter-widgets/base",
          "model_name": "LayoutModel",
          "model_module_version": "1.2.0",
          "state": {
            "_model_module": "@jupyter-widgets/base",
            "_model_module_version": "1.2.0",
            "_model_name": "LayoutModel",
            "_view_count": null,
            "_view_module": "@jupyter-widgets/base",
            "_view_module_version": "1.2.0",
            "_view_name": "LayoutView",
            "align_content": null,
            "align_items": null,
            "align_self": null,
            "border": null,
            "bottom": null,
            "display": null,
            "flex": null,
            "flex_flow": null,
            "grid_area": null,
            "grid_auto_columns": null,
            "grid_auto_flow": null,
            "grid_auto_rows": null,
            "grid_column": null,
            "grid_gap": null,
            "grid_row": null,
            "grid_template_areas": null,
            "grid_template_columns": null,
            "grid_template_rows": null,
            "height": null,
            "justify_content": null,
            "justify_items": null,
            "left": null,
            "margin": null,
            "max_height": null,
            "max_width": null,
            "min_height": null,
            "min_width": null,
            "object_fit": null,
            "object_position": null,
            "order": null,
            "overflow": null,
            "overflow_x": null,
            "overflow_y": null,
            "padding": null,
            "right": null,
            "top": null,
            "visibility": null,
            "width": null
          }
        },
        "14be3982b9064b6f80bb8ba35aa77a74": {
          "model_module": "@jupyter-widgets/controls",
          "model_name": "DescriptionStyleModel",
          "model_module_version": "1.5.0",
          "state": {
            "_model_module": "@jupyter-widgets/controls",
            "_model_module_version": "1.5.0",
            "_model_name": "DescriptionStyleModel",
            "_view_count": null,
            "_view_module": "@jupyter-widgets/base",
            "_view_module_version": "1.2.0",
            "_view_name": "StyleView",
            "description_width": ""
          }
        },
        "471600c9935f4932b9365722d1fdefad": {
          "model_module": "@jupyter-widgets/base",
          "model_name": "LayoutModel",
          "model_module_version": "1.2.0",
          "state": {
            "_model_module": "@jupyter-widgets/base",
            "_model_module_version": "1.2.0",
            "_model_name": "LayoutModel",
            "_view_count": null,
            "_view_module": "@jupyter-widgets/base",
            "_view_module_version": "1.2.0",
            "_view_name": "LayoutView",
            "align_content": null,
            "align_items": null,
            "align_self": null,
            "border": null,
            "bottom": null,
            "display": null,
            "flex": null,
            "flex_flow": null,
            "grid_area": null,
            "grid_auto_columns": null,
            "grid_auto_flow": null,
            "grid_auto_rows": null,
            "grid_column": null,
            "grid_gap": null,
            "grid_row": null,
            "grid_template_areas": null,
            "grid_template_columns": null,
            "grid_template_rows": null,
            "height": null,
            "justify_content": null,
            "justify_items": null,
            "left": null,
            "margin": null,
            "max_height": null,
            "max_width": null,
            "min_height": null,
            "min_width": null,
            "object_fit": null,
            "object_position": null,
            "order": null,
            "overflow": null,
            "overflow_x": null,
            "overflow_y": null,
            "padding": null,
            "right": null,
            "top": null,
            "visibility": null,
            "width": null
          }
        },
        "0baf74b467474aa180047dff1081fde1": {
          "model_module": "@jupyter-widgets/controls",
          "model_name": "ProgressStyleModel",
          "model_module_version": "1.5.0",
          "state": {
            "_model_module": "@jupyter-widgets/controls",
            "_model_module_version": "1.5.0",
            "_model_name": "ProgressStyleModel",
            "_view_count": null,
            "_view_module": "@jupyter-widgets/base",
            "_view_module_version": "1.2.0",
            "_view_name": "StyleView",
            "bar_color": null,
            "description_width": ""
          }
        },
        "2da63a278cf14ce9a99e95e6a35fd67f": {
          "model_module": "@jupyter-widgets/base",
          "model_name": "LayoutModel",
          "model_module_version": "1.2.0",
          "state": {
            "_model_module": "@jupyter-widgets/base",
            "_model_module_version": "1.2.0",
            "_model_name": "LayoutModel",
            "_view_count": null,
            "_view_module": "@jupyter-widgets/base",
            "_view_module_version": "1.2.0",
            "_view_name": "LayoutView",
            "align_content": null,
            "align_items": null,
            "align_self": null,
            "border": null,
            "bottom": null,
            "display": null,
            "flex": null,
            "flex_flow": null,
            "grid_area": null,
            "grid_auto_columns": null,
            "grid_auto_flow": null,
            "grid_auto_rows": null,
            "grid_column": null,
            "grid_gap": null,
            "grid_row": null,
            "grid_template_areas": null,
            "grid_template_columns": null,
            "grid_template_rows": null,
            "height": null,
            "justify_content": null,
            "justify_items": null,
            "left": null,
            "margin": null,
            "max_height": null,
            "max_width": null,
            "min_height": null,
            "min_width": null,
            "object_fit": null,
            "object_position": null,
            "order": null,
            "overflow": null,
            "overflow_x": null,
            "overflow_y": null,
            "padding": null,
            "right": null,
            "top": null,
            "visibility": null,
            "width": null
          }
        },
        "ad6498685f294b0e981867be290db88a": {
          "model_module": "@jupyter-widgets/controls",
          "model_name": "DescriptionStyleModel",
          "model_module_version": "1.5.0",
          "state": {
            "_model_module": "@jupyter-widgets/controls",
            "_model_module_version": "1.5.0",
            "_model_name": "DescriptionStyleModel",
            "_view_count": null,
            "_view_module": "@jupyter-widgets/base",
            "_view_module_version": "1.2.0",
            "_view_name": "StyleView",
            "description_width": ""
          }
        }
      }
    }
  },
  "nbformat": 4,
  "nbformat_minor": 0
}